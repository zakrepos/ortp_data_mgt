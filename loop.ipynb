{
  "nbformat": 4,
  "nbformat_minor": 0,
  "metadata": {
    "colab": {
      "provenance": [],
      "authorship_tag": "ABX9TyPjoT91sF7LWIMneYRt6r4h",
      "include_colab_link": true
    },
    "kernelspec": {
      "name": "python3",
      "display_name": "Python 3"
    },
    "language_info": {
      "name": "python"
    }
  },
  "cells": [
    {
      "cell_type": "markdown",
      "metadata": {
        "id": "view-in-github",
        "colab_type": "text"
      },
      "source": [
        "<a href=\"https://colab.research.google.com/github/zakrepos/ortp_data_mgt/blob/main/loop.ipynb\" target=\"_parent\"><img src=\"https://colab.research.google.com/assets/colab-badge.svg\" alt=\"Open In Colab\"/></a>"
      ]
    },
    {
      "cell_type": "code",
      "source": [
        "#https://www.tomasbeuzen.com/python-programming-for-data-science/chapters/chapter2-loops-functions.html"
      ],
      "metadata": {
        "id": "uwQC2DNX85Dw"
      },
      "execution_count": null,
      "outputs": []
    },
    {
      "cell_type": "code",
      "source": [
        "#!pip install memory_profiler"
      ],
      "metadata": {
        "id": "KLR2ShlfCsCw"
      },
      "execution_count": null,
      "outputs": []
    },
    {
      "cell_type": "code",
      "source": [
        "import random  # we'll learn about imports in a later chapter\n",
        "import time\n",
        "import memory_profiler\n",
        "city = ['Vancouver', 'Toronto', 'Ottawa', 'Montreal']"
      ],
      "metadata": {
        "id": "LYOTVwru8LFi"
      },
      "execution_count": null,
      "outputs": []
    },
    {
      "cell_type": "code",
      "source": [
        "def house_list(n):\n",
        "    houses = []\n",
        "    for i in range(n):\n",
        "        house = {\n",
        "            'id': i,\n",
        "            'city': random.choice(city),\n",
        "            'bedrooms': random.randint(1, 5),\n",
        "            'bathrooms': random.randint(1, 3),\n",
        "            'price ($1000s)': random.randint(300, 1000)\n",
        "        }\n",
        "        houses.append(house)\n",
        "    return houses\n",
        "df = p.DataFrame(list(house_list(5)))\n",
        "print(df)"
      ],
      "metadata": {
        "colab": {
          "base_uri": "https://localhost:8080/"
        },
        "id": "D8tSYDQmDDEQ",
        "outputId": "430fccd5-ef8c-42c7-8072-5b7c3416dc62"
      },
      "execution_count": null,
      "outputs": [
        {
          "output_type": "stream",
          "name": "stdout",
          "text": [
            "   id       city  bedrooms  bathrooms  price ($1000s)\n",
            "0   0     Ottawa         3          2             741\n",
            "1   1  Vancouver         3          3             359\n",
            "2   2     Ottawa         2          3             420\n",
            "3   3    Toronto         5          1             896\n",
            "4   4   Montreal         4          3             513\n"
          ]
        }
      ]
    }
  ]
}